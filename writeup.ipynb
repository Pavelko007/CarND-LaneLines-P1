{
 "cells": [
  {
   "cell_type": "markdown",
   "metadata": {},
   "source": [
    "# **Finding Lane Lines on the Road** \n",
    "\n",
    "## Writeup\n",
    "\n",
    "---\n",
    "\n",
    "**Finding Lane Lines on the Road**\n",
    "\n",
    "The goals / steps of this project are the following:\n",
    "* Make a pipeline that finds lane lines on the road\n",
    "* Reflect on your work in a written report\n",
    "\n",
    "\n",
    "[//]: # (Image References)\n",
    "\n",
    "[image1]: ./examples/grayscale.jpg \"Grayscale\"\n",
    "\n",
    "---\n",
    "\n",
    "### Reflection\n",
    "\n",
    "### 1. Describe your pipeline. As part of the description, explain how you modified the draw_lines() function.\n",
    "\n",
    "My pipeline consisted of 7 steps:\n",
    "    - Converting the images to grayscale \n",
    "    - Smoothing the images\n",
    "    - Detecting edges using Canny transform\n",
    "    - Appling the mask to the detected edges, isolating only the region containing lanes \n",
    "    - Detecting line segments from edges with HoughLinesP function\n",
    "    - Extrapolating lanes from line segments\n",
    "    - Drawing lines on the original image\n",
    "    \n",
    "\n",
    "In order to draw a single line on the left and right lanes, I modified the draw_lines() function by ...\n",
    "\n",
    "If you'd like to include images to show how the pipeline works, here is how to include an image: \n",
    "\n",
    "![alt text][image1]\n",
    "\n",
    "\n",
    "### 2. Identify potential shortcomings with your current pipeline\n",
    "\n",
    "\n",
    "One potential shortcoming would be what would happen when ... \n",
    "\n",
    "Another shortcoming could be ...\n",
    "\n",
    "\n",
    "### 3. Suggest possible improvements to your pipeline\n",
    "\n",
    "A possible improvement would be to ...\n",
    "\n",
    "Another potential improvement could be to ...\n"
   ]
  }
 ],
 "metadata": {
  "kernelspec": {
   "display_name": "Python 3",
   "language": "python",
   "name": "python3"
  },
  "language_info": {
   "codemirror_mode": {
    "name": "ipython",
    "version": 3
   },
   "file_extension": ".py",
   "mimetype": "text/x-python",
   "name": "python",
   "nbconvert_exporter": "python",
   "pygments_lexer": "ipython3",
   "version": "3.5.2"
  },
  "widgets": {
   "state": {},
   "version": "1.1.2"
  }
 },
 "nbformat": 4,
 "nbformat_minor": 2
}
