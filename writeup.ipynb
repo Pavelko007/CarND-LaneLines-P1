{
 "cells": [
  {
   "cell_type": "code",
   "execution_count": null,
   "metadata": {},
   "outputs": [],
   "source": []
  },
  {
   "cell_type": "markdown",
   "metadata": {},
   "source": [
    "# **Finding Lane Lines on the Road** \n",
    "\n",
    "## Writeup\n",
    "\n",
    "---\n",
    "\n",
    "**Finding Lane Lines on the Road**\n",
    "\n",
    "The goals / steps of this project are the following:\n",
    "* Make a pipeline that finds lane lines on the road\n",
    "* Reflect on your work in a written report\n",
    "\n",
    "\n",
    "[//]: # (Image References)\n",
    "\n",
    "[image1]: ./examples/grayscale.jpg \"Grayscale\"\n",
    "\n",
    "---\n",
    "\n",
    "### Reflection\n",
    "\n",
    "### 1. Describe your pipeline. As part of the description, explain how you modified the draw_lines() function.\n",
    "\n",
    "My pipeline consisted of 7 steps:\n",
    "    - Converting the images to grayscale \n",
    "    - Smoothing the images\n",
    "    - Detecting edges using Canny transform\n",
    "    - Appling the mask to the detected edges, isolating only the region containing lanes \n",
    "    - Detecting line segments from edges with HoughLinesP function\n",
    "    - Extrapolating lanes from line segments\n",
    "    - Drawing lines on the original image\n",
    "    \n",
    "\n",
    "In order to draw a single line on the left and right lanes, I modified the draw_lines() function. I divided line segments for left and right lane calculating their slopes. Line segment of the right lane should have positive slope and of the left lane negative. I calculated the center point of each line segment. Then by averaging I calculated center point and slope for each line. By using the equation of the line (y-y')=M(x-x') I computed the endpoints of both lines. I assumed that the y coordinate of lower point is the image height and the y coordinate of upper point is image height multiplied by 0.6 \n",
    "\n",
    "\n",
    "### 2. Identify potential shortcomings with your current pipeline\n",
    "\n",
    "\n",
    "One potential shortcoming would be what would happen when there will be poor lighting conditions\n",
    "\n",
    "Another shortcoming could be when another car will be in the region of interest\n",
    "\n",
    "Another shortcoming could be when the slope of right lane's segment is not positive, or slope of left lane's segment is not negetive. This happens on turns. \n",
    "\n",
    "\n",
    "### 3. Suggest possible improvements to your pipeline\n",
    "\n",
    "A possible improvement would be to use other color spaces like HSL and HSV\n",
    "\n",
    "Another potential improvement could be to crop all obstucting objects before detecting lanes\n",
    "\n",
    "Another potential improvement could be to filter line segments by the position of its center. the x coordinate of right segments center should be bigger that half of the image width.\n"
   ]
  }
 ],
 "metadata": {
  "kernelspec": {
   "display_name": "Python 3",
   "language": "python",
   "name": "python3"
  },
  "language_info": {
   "codemirror_mode": {
    "name": "ipython",
    "version": 3
   },
   "file_extension": ".py",
   "mimetype": "text/x-python",
   "name": "python",
   "nbconvert_exporter": "python",
   "pygments_lexer": "ipython3",
   "version": "3.5.2"
  },
  "widgets": {
   "state": {},
   "version": "1.1.2"
  }
 },
 "nbformat": 4,
 "nbformat_minor": 2
}
